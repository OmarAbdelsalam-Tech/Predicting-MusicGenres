{
 "cells": [
  {
   "cell_type": "code",
   "execution_count": 334,
   "id": "3907b04f",
   "metadata": {},
   "outputs": [
    {
     "data": {
      "text/plain": [
       "0.5"
      ]
     },
     "execution_count": 334,
     "metadata": {},
     "output_type": "execute_result"
    }
   ],
   "source": [
    "#IMPORTING\n",
    "import pandas as pd\n",
    "from sklearn.tree import DecisionTreeClassifier\n",
    "from sklearn.model_selection import train_test_split\n",
    "from sklearn.metrics import accuracy_score\n",
    "#-----------------------------------------------------------------------------------\n",
    "\n",
    "#DATA PREPERATION\n",
    "music_data = pd.read_csv('music.csv')\n",
    "X= music_data.drop(columns = ['genre'])\n",
    "y = music_data['genre']\n",
    "#-----------------------------------------------------------------------------------\n",
    "\n",
    "#TRAINING\n",
    "X_train, X_test, y_train, y_test = train_test_split(X, y, test_size = 0.2) #0.2 Represents that we use 80% of the data to train our model\n",
    "model = DecisionTreeClassifier()                                           #That's why when we go to evaluate it is a high prediction accuracy, the more data you train the stronger your model will be\n",
    "model.fit(X_train, y_train)\n",
    "predictions = model.predict(X_test)\n",
    "#-----------------------------------------------------------------------------------\n",
    "\n",
    "#EVALUATING\n",
    "score = accuracy_score(y_test, predictions)\n",
    "score"
   ]
  },
  {
   "cell_type": "code",
   "execution_count": null,
   "id": "a01d3ada",
   "metadata": {},
   "outputs": [],
   "source": []
  }
 ],
 "metadata": {
  "kernelspec": {
   "display_name": "Python 3 (ipykernel)",
   "language": "python",
   "name": "python3"
  },
  "language_info": {
   "codemirror_mode": {
    "name": "ipython",
    "version": 3
   },
   "file_extension": ".py",
   "mimetype": "text/x-python",
   "name": "python",
   "nbconvert_exporter": "python",
   "pygments_lexer": "ipython3",
   "version": "3.9.13"
  }
 },
 "nbformat": 4,
 "nbformat_minor": 5
}
